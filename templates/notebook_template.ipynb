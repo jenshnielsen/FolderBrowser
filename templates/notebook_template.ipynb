{
 "cells": [
  {
   "cell_type": "code",
   "execution_count": 1,
   "metadata": {
    "collapsed": true
   },
   "outputs": [],
   "source": [
    "%reset -f\n",
    "%load_ext autoreload\n",
    "%autoreload 2\n",
    "%matplotlib qt5\n",
    "%gui qt5\n",
    "\n",
    "import sys\n",
    "path_to_folderbrowser_directory = '..'\n",
    "sys.path.append(path_to_folderbrowser_directory)\n",
    "from folderbrowser import FolderBrowser\n",
    "from PyQt5 import QtWidgets\n",
    "import numpy as np\n",
    "from pcols import name_func_dict"
   ]
  },
  {
   "cell_type": "code",
   "execution_count": 2,
   "metadata": {
    "collapsed": false
   },
   "outputs": [],
   "source": [
    "n_figs = 2\n",
    "win_t = 'Your title here'\n",
    "data_path = '../data'\n",
    "qApp = QtWidgets.QApplication.instance()\n",
    "if qApp is None:\n",
    "    qApp = QtWidgets.QApplication(sys.argv)\n",
    "brw = FolderBrowser(n_figs, data_path, name_func_dict, window_title=win_t)"
   ]
  },
  {
   "cell_type": "code",
   "execution_count": 5,
   "metadata": {
    "collapsed": false
   },
   "outputs": [],
   "source": [
    "layout_idx = 0\n",
    "layout = brw.mpl_layouts[layout_idx]\n",
    "sweep = layout.sweep\n",
    "fig = layout.canvas.figure\n",
    "ax = fig.get_axes()[0]\n",
    "try:\n",
    "    image = brw.mpl_layouts[layout_idx].image\n",
    "    cbar = image.colorbar\n",
    "except:\n",
    "    pass"
   ]
  },
  {
   "cell_type": "code",
   "execution_count": 6,
   "metadata": {
    "collapsed": true
   },
   "outputs": [],
   "source": [
    "from pcols import name_func_dict\n",
    "brw.set_name_func_dict(name_func_dict)"
   ]
  },
  {
   "cell_type": "code",
   "execution_count": null,
   "metadata": {
    "collapsed": true
   },
   "outputs": [],
   "source": []
  }
 ],
 "metadata": {
  "anaconda-cloud": {},
  "kernelspec": {
   "display_name": "Python [default]",
   "language": "python",
   "name": "python3"
  },
  "language_info": {
   "codemirror_mode": {
    "name": "ipython",
    "version": 3
   },
   "file_extension": ".py",
   "mimetype": "text/x-python",
   "name": "python",
   "nbconvert_exporter": "python",
   "pygments_lexer": "ipython3",
   "version": "3.5.1"
  }
 },
 "nbformat": 4,
 "nbformat_minor": 1
}
